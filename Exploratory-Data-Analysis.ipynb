{
 "cells": [
  {
   "cell_type": "markdown",
   "metadata": {},
   "source": [
    "Written by [Gameli Ladzekpo](mailto:gameli.Ladzekpo@gmail.com) (Twitter/IG: @gamladz)\n",
    "\n",
    "For [AI Core](theaicore.com)"
   ]
  },
  {
   "cell_type": "code",
   "execution_count": 1,
   "metadata": {},
   "outputs": [],
   "source": [
    "import pandas as pd\n",
    "import json\n",
    "from ast import literal_eval\n",
    "import numpy as np"
   ]
  },
  {
   "cell_type": "code",
   "execution_count": 39,
   "metadata": {
    "tags": []
   },
   "outputs": [
    {
     "output_type": "display_data",
     "data": {
      "text/plain": "['Height',\n 'Outside diameter',\n 'Max. diameter flowerpot',\n 'Inside diameter',\n 'Length',\n 'Max. load/shelf',\n 'Width',\n 'Max. load',\n 'Diameter',\n 'Depth',\n 'Diameter of plant pot',\n 'Height of plant',\n 'Package quantity',\n 'Length of plant pot',\n 'Width of plant pot',\n 'Volume',\n 'Height including hanger',\n 'Lower outer measure, depth',\n 'Lower outer measure, width',\n 'Upper outer measure, depth',\n 'Upper outer measure, width',\n 'Length including handles',\n 'Height including lid',\n 'Min. height',\n 'Max. height',\n 'Length of knife blade',\n 'Thickness',\n 'Free height under furniture',\n 'Plinth, height',\n 'Frame, width',\n 'Frame, depth',\n 'Frame, height',\n 'Width right',\n 'Width left',\n 'Min. width',\n 'Max. width']"
     },
     "metadata": {}
    }
   ],
   "source": [
    "\n",
    "# pd.options.display.max_columns = None\n",
    "# pd.options.display.max_rows = None\n",
    "\n",
    "\n",
    "# Read files into a dataframe\n",
    "with open('data_json.txt', 'r') as fp:\n",
    "    data = json.load(fp)\n",
    "\n",
    "df = pd.DataFrame.from_dict({(i,j): data[i][j] \n",
    "                           for i in data.keys() \n",
    "                           for j in data[i].keys()},\n",
    "                       orient='index')\n",
    "\n",
    "# Split dimensions to it's own seperate columns\n",
    "\n",
    "dimensions = df['prod_dimensions'].apply(pd.Series)\n",
    "dimensions = dimensions.astype('str')\n",
    "headers = dimensions.columns.values.tolist()\n",
    "\n",
    "all_columns = list(dimensions) # Creates list of all column headers\n",
    "num_columns = len(dimensions. columns)\n",
    "\n",
    "clean_df = pd.DataFrame()\n",
    "display(all_columns)\n",
    "\n",
    "         \n"
   ]
  },
  {
   "cell_type": "code",
   "execution_count": 42,
   "metadata": {},
   "outputs": [
    {
     "output_type": "stream",
     "name": "stdout",
     "text": [
      "Empty DataFrame\nColumns: []\nIndex: [(plant pots, 0), (plant pots, 1), (plant pots, 2), (plant pots, 4), (plant pots, 5), (plant pots, 6), (plant pots, 7), (plant pots, 8), (plant pots, 9), (plant pots, 10), (plant pots, 11), (plant pots, 12), (plant pots, 13), (plant pots, 14), (plant pots, 15), (plant pots, 16), (plant pots, 17), (plant pots, 18), (plant pots, 19), (plant pots, 20), (plant pots, 21), (plant pots, 22), (plant pots, 23), (plant pots, 24), (plant pots, 25), (plant pots, 26), (plant pots, 27), (plant pots, 28), (plant pots, 29), (plant pots, 30), (plant pots, 31), (plant pots, 32), (plant pots, 33), (plant pots, 34), (plant pots, 35), (plant pots, 36), (plant pots, 37), (plant pots, 38), (plant pots, 39), (plant pots, 40), (plant pots, 41), (plant pots, 42), (plant pots, 43), (plant pots, 44), (plant pots, 45), (plant pots, 46), (plant pots, 47), (plant pots, 48), (plant pots, 49), (plant pots, 50), (plant pots, 51), (plant pots, 52), (plant pots, 53), (plant pots, 54), (plant pots, 55), (plant pots, 56), (plant pots, 57), (plant pots, 58), (plant pots, 59), (plant pots, 60), (plant pots, 61), (plant pots, 62), (plant pots, 63), (plant pots, 64), (plant pots, 65), (plant pots, 66), (plant pots, 67), (plant pots, 68), (plant pots, 69), (plant pots, 70), (plant pots, 71), (plant pots, 72), (plant pots, 73), (plant pots, 74), (plant pots, 75), (plant pots, 76), (plant pots, 77), (plant pots, 78), (plant pots, 79), (plant pots, 80), (plant pots, 81), (plant pots, 82), (plant pots, 83), (plant pots, 84), (plant pots, 85), (plant pots, 86), (plant pots, 87), (plant pots, 88), (plant pots, 89), (plant pots, 90), (plant pots, 91), (plant pots, 92), (plant pots, 93), (plant pots, 94), (plant pots, 95), (plant pots, 96), (plant pots, 97), (plant pots, 98), (plant pots, 99), (plant pots, 100), ...]\n\n[500 rows x 0 columns]\n"
     ]
    }
   ],
   "source": [
    "volume_cols = [col for col in dimensions.columns if 'volume' in col]\n",
    "dimensions[volume_cols] = dimensions[volume_cols].apply(lambda x: x.str.strip(' cm').astype('float'))\n",
    "volume = dimensions[volume_cols]\n",
    "\n",
    "clean_df[\"volume_avg\"] = volume.mean(axis=1)\n"
   ]
  },
  {
   "cell_type": "code",
   "execution_count": 41,
   "metadata": {},
   "outputs": [],
   "source": [
    "length_cols = [col for col in dimensions.columns if 'length' in col]\n",
    "dimensions[length_cols] = dimensions[length_cols].apply(lambda x: x.str.strip(' cm').astype('float'))\n",
    "length = dimensions[length_cols]\n",
    "\n",
    "clean_df[\"length_avg\"] = length.mean(axis=1)\n"
   ]
  },
  {
   "cell_type": "code",
   "execution_count": 18,
   "metadata": {},
   "outputs": [],
   "source": [
    "diameter_cols = [col for col in dimensions.columns if 'diameter' in col]\n",
    "dimensions[diameter_cols] = dimensions[diameter_cols].apply(lambda x: x.str.strip(' cm').astype('float'))\n",
    "diameter = dimensions[diameter_cols]\n",
    "\n",
    "clean_df[\"diameter_avg\"] = diameter.mean(axis=1)"
   ]
  },
  {
   "cell_type": "code",
   "execution_count": 19,
   "metadata": {},
   "outputs": [],
   "source": [
    "depth_cols = [col for col in dimensions.columns if 'depth' in col]\n",
    "dimensions[depth_cols] = dimensions[depth_cols].apply(lambda x: x.str.strip(' cm').astype('float'))\n",
    "depth = dimensions[depth_cols]\n",
    "\n",
    "clean_df[\"depth_avg\"] = depth.mean(axis=1)\n",
    "\n",
    "\n"
   ]
  },
  {
   "cell_type": "code",
   "execution_count": 20,
   "metadata": {},
   "outputs": [],
   "source": [
    "width_cols = [col for col in dimensions.columns if 'width' in col]\n",
    "dimensions[width_cols] = dimensions[width_cols].apply(lambda x: x.str.strip(' cm').astype('float'))\n",
    "width = dimensions[width_cols]\n",
    "\n",
    "clean_df[\"width_avg\"] = width.mean(axis=1)\n",
    "\n"
   ]
  },
  {
   "cell_type": "code",
   "execution_count": 21,
   "metadata": {
    "tags": []
   },
   "outputs": [
    {
     "output_type": "stream",
     "name": "stdout",
     "text": [
      "plant pots  0    NaN\n            1    NaN\n            2    NaN\n            4    NaN\n            5    NaN\n                  ..\nwardrobes   42   NaN\n            43   NaN\n            44   NaN\n            45   NaN\n            46   NaN\nName: avg, Length: 500, dtype: float64\n"
     ]
    }
   ],
   "source": [
    "height_cols = [col for col in dimensions.columns if 'height' in col]\n",
    "Height_cols = [col for col in dimensions.columns if 'Height' in col]\n",
    "\n",
    "height = dimensions[height_cols]\n",
    "Height = dimensions[Height_cols]\n",
    "\n",
    "\n",
    "height[\"avg\"] = height.mean(axis=1)\n",
    "Height[\"avg\"] = height.mean(axis=1)\n",
    "\n",
    "clean_df['height_avg'] = height[\"avg\"] + Height[\"avg\"]\n",
    "\n",
    "\n",
    "\n",
    "print(height[\"avg\"])"
   ]
  },
  {
   "cell_type": "code",
   "execution_count": 10,
   "metadata": {},
   "outputs": [],
   "source": [
    "# description.head()\n",
    "description = df['prod_desc'].str.split(',', expand=True)\n",
    "# description = df['prod_desc'].str.split('in/outdoor', expand=True)\n",
    "\n",
    "desc_empty = []\n",
    "for i in description.columns:\n",
    "    desc_empty.append(description[i].value_counts())\n",
    "\n",
    "clean_df['is_plant'] = df['prod_desc'].str.contains('Potted plant')\n",
    "clean_df['in_outdoor'] = df['prod_desc'].str.contains('in/outdoor')\n",
    "clean_df['is_white'] = df['prod_desc'].str.contains('white')\n",
    "clean_df['is_grey'] = df['prod_desc'].str.contains('grey')\n",
    "clean_df['is_beige'] = df['prod_desc'].str.contains('beige')\n",
    "clean_df['is_black'] = df['prod_desc'].str.contains('black')\n",
    "clean_df['is_pink'] = df['prod_desc'].str.contains('pink')\n",
    "clean_df['is_blue'] = df['prod_desc'].str.contains('blue')\n",
    "clean_df['is_red'] = df['prod_desc'].str.contains('red')\n",
    "\n",
    "clean_df['prod_price'] = df['prod_price'].astype('float64')\n",
    "\n",
    "drop_cols =['level_0','level_1']\n",
    "clean_df = clean_df.reset_index().drop(drop_cols, axis=1)\n",
    "clean_df = clean_df.fillna(0)\n",
    "\n",
    "\n",
    "\n"
   ]
  },
  {
   "cell_type": "code",
   "execution_count": 11,
   "metadata": {},
   "outputs": [
    {
     "output_type": "error",
     "ename": "NameError",
     "evalue": "name 'y' is not defined",
     "traceback": [
      "\u001b[0;31m---------------------------------------------------------------------------\u001b[0m",
      "\u001b[0;31mNameError\u001b[0m                                 Traceback (most recent call last)",
      "\u001b[0;32m<ipython-input-11-386653be5ebe>\u001b[0m in \u001b[0;36m<module>\u001b[0;34m\u001b[0m\n\u001b[1;32m     10\u001b[0m \u001b[0mX\u001b[0m \u001b[0;34m=\u001b[0m \u001b[0msm\u001b[0m\u001b[0;34m.\u001b[0m\u001b[0madd_constant\u001b[0m\u001b[0;34m(\u001b[0m\u001b[0mX\u001b[0m\u001b[0;34m)\u001b[0m\u001b[0;34m\u001b[0m\u001b[0;34m\u001b[0m\u001b[0m\n\u001b[1;32m     11\u001b[0m \u001b[0;34m\u001b[0m\u001b[0m\n\u001b[0;32m---> 12\u001b[0;31m \u001b[0mX_train\u001b[0m\u001b[0;34m,\u001b[0m \u001b[0mX_test\u001b[0m\u001b[0;34m,\u001b[0m \u001b[0my_train\u001b[0m\u001b[0;34m,\u001b[0m \u001b[0my_test\u001b[0m \u001b[0;34m=\u001b[0m \u001b[0mtrain_test_split\u001b[0m\u001b[0;34m(\u001b[0m\u001b[0mX\u001b[0m\u001b[0;34m,\u001b[0m \u001b[0my\u001b[0m\u001b[0;34m,\u001b[0m \u001b[0mtest_size\u001b[0m\u001b[0;34m=\u001b[0m\u001b[0;36m0.15\u001b[0m\u001b[0;34m,\u001b[0m \u001b[0mrandom_state\u001b[0m\u001b[0;34m=\u001b[0m\u001b[0;36m42\u001b[0m\u001b[0;34m)\u001b[0m\u001b[0;34m\u001b[0m\u001b[0;34m\u001b[0m\u001b[0m\n\u001b[0m\u001b[1;32m     13\u001b[0m \u001b[0mX_test\u001b[0m\u001b[0;34m.\u001b[0m\u001b[0mto_csv\u001b[0m\u001b[0;34m(\u001b[0m\u001b[0;34m'X_test.csv'\u001b[0m\u001b[0;34m,\u001b[0m \u001b[0mindex\u001b[0m\u001b[0;34m=\u001b[0m\u001b[0;32mFalse\u001b[0m\u001b[0;34m)\u001b[0m\u001b[0;34m\u001b[0m\u001b[0;34m\u001b[0m\u001b[0m\n\u001b[1;32m     14\u001b[0m \u001b[0my_test\u001b[0m\u001b[0;34m.\u001b[0m\u001b[0mto_csv\u001b[0m\u001b[0;34m(\u001b[0m\u001b[0;34m'y_test.csv'\u001b[0m\u001b[0;34m,\u001b[0m \u001b[0mindex\u001b[0m\u001b[0;34m=\u001b[0m\u001b[0;32mFalse\u001b[0m\u001b[0;34m)\u001b[0m\u001b[0;34m\u001b[0m\u001b[0;34m\u001b[0m\u001b[0m\n",
      "\u001b[0;31mNameError\u001b[0m: name 'y' is not defined"
     ]
    }
   ],
   "source": [
    "import numpy as np\n",
    "import matplotlib.pyplot as plt  # To visualize\n",
    "import pandas as pd  # To read data\n",
    "from sklearn.linear_model import LinearRegression\n",
    "import statsmodels.api as sm\n",
    "from sklearn.model_selection import train_test_split\n",
    "\n",
    "# Select the product price as your label, y\n",
    "y = clean_df.pop('prod_price')\n",
    "X = clean_df\n",
    "X = sm.add_constant(X)\n",
    "\n",
    "# Split test and train data and save to csv\n",
    "X_train, X_test, y_train, y_test = train_test_split(X, y, test_size=0.15, random_state=42)\n",
    "X_test.to_csv('X_test.csv', index=False)\n",
    "y_test.to_csv('y_test.csv', index=False)\n",
    "X_train.to_csv('X_train.csv', index=False)\n",
    "y_train.to_csv('y_train.csv', index=False)\n",
    "\n",
    "\n",
    "\n"
   ]
  },
  {
   "cell_type": "code",
   "execution_count": null,
   "metadata": {},
   "outputs": [],
   "source": []
  }
 ],
 "metadata": {
  "kernelspec": {
   "display_name": "Python 3",
   "language": "python",
   "name": "python3"
  },
  "language_info": {
   "codemirror_mode": {
    "name": "ipython",
    "version": 3
   },
   "file_extension": ".py",
   "mimetype": "text/x-python",
   "name": "python",
   "nbconvert_exporter": "python",
   "pygments_lexer": "ipython3",
   "version": "3.8.5"
  }
 },
 "nbformat": 4,
 "nbformat_minor": 4
}