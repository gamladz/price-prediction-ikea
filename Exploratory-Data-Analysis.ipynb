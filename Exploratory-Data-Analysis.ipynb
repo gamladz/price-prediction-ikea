{
 "cells": [
  {
   "cell_type": "markdown",
   "metadata": {},
   "source": [
    "Written by [Gameli Ladzekpo](mailto:gameli.Ladzekpo@gmail.com) (Twitter/IG: @gamladz)\n",
    "\n",
    "For [AI Core](theaicore.com)"
   ]
  },
  {
   "cell_type": "code",
   "execution_count": 15,
   "metadata": {},
   "outputs": [],
   "source": [
    "import pandas as pd\n",
    "import json\n",
    "from ast import literal_eval"
   ]
  },
  {
   "cell_type": "code",
   "execution_count": 24,
   "metadata": {
    "tags": []
   },
   "outputs": [
    {
     "output_type": "display_data",
     "data": {
      "text/plain": "                 Height Outside diameter Max. diameter flowerpot  \\\nplant pots 0      11 cm            12 cm                    9 cm   \n           1      13 cm            14 cm                   12 cm   \n           2      12 cm            13 cm                   12 cm   \n           4      13 cm            14 cm                   12 cm   \n           5      12 cm            14 cm                   12 cm   \n...                 ...              ...                     ...   \nwardrobes  42  201.2 cm              NaN                     NaN   \n           43    139 cm              NaN                     NaN   \n           44  236.4 cm              NaN                     NaN   \n           45    181 cm              NaN                     NaN   \n           46  236.4 cm              NaN                     NaN   \n\n              Inside diameter Length Max. load/shelf     Width Max. load  \\\nplant pots 0            11 cm    NaN             NaN       NaN       NaN   \n           1            13 cm    NaN             NaN       NaN       NaN   \n           2              NaN    NaN             NaN       NaN       NaN   \n           4            13 cm    NaN             NaN       NaN       NaN   \n           5            13 cm    NaN             NaN       NaN       NaN   \n...                       ...    ...             ...       ...       ...   \nwardrobes  42             NaN    NaN             NaN  200.0 cm       NaN   \n           43             NaN    NaN             NaN     80 cm       NaN   \n           44             NaN    NaN             NaN    250 cm       NaN   \n           45             NaN    NaN             NaN     60 cm       NaN   \n           46             NaN    NaN             NaN  150.0 cm       NaN   \n\n              Diameter    Depth  ... Thickness Free height under furniture  \\\nplant pots 0       NaN      NaN  ...       NaN                         NaN   \n           1       NaN      NaN  ...       NaN                         NaN   \n           2       NaN      NaN  ...       NaN                         NaN   \n           4       NaN      NaN  ...       NaN                         NaN   \n           5       NaN      NaN  ...       NaN                         NaN   \n...                ...      ...  ...       ...                         ...   \nwardrobes  42      NaN  66.0 cm  ...       NaN                         NaN   \n           43      NaN    52 cm  ...       NaN                         NaN   \n           44      NaN    60 cm  ...       NaN                         NaN   \n           45      NaN    42 cm  ...       NaN                         NaN   \n           46      NaN  44.0 cm  ...       NaN                         NaN   \n\n              Plinth, height Frame, width Frame, depth Frame, height  \\\nplant pots 0             NaN          NaN          NaN           NaN   \n           1             NaN          NaN          NaN           NaN   \n           2             NaN          NaN          NaN           NaN   \n           4             NaN          NaN          NaN           NaN   \n           5             NaN          NaN          NaN           NaN   \n...                      ...          ...          ...           ...   \nwardrobes  42            NaN          NaN          NaN           NaN   \n           43            NaN          NaN          NaN           NaN   \n           44         236 cm          NaN          NaN           NaN   \n           45            NaN          NaN          NaN           NaN   \n           46            NaN          NaN          NaN           NaN   \n\n              Width right Width left Min. width Max. width  \nplant pots 0          NaN        NaN        NaN        NaN  \n           1          NaN        NaN        NaN        NaN  \n           2          NaN        NaN        NaN        NaN  \n           4          NaN        NaN        NaN        NaN  \n           5          NaN        NaN        NaN        NaN  \n...                   ...        ...        ...        ...  \nwardrobes  42         NaN        NaN        NaN        NaN  \n           43         NaN        NaN        NaN        NaN  \n           44         NaN        NaN        NaN        NaN  \n           45         NaN        NaN      95 cm     120 cm  \n           46         NaN        NaN        NaN        NaN  \n\n[500 rows x 36 columns]",
      "text/html": "<div>\n<style scoped>\n    .dataframe tbody tr th:only-of-type {\n        vertical-align: middle;\n    }\n\n    .dataframe tbody tr th {\n        vertical-align: top;\n    }\n\n    .dataframe thead th {\n        text-align: right;\n    }\n</style>\n<table border=\"1\" class=\"dataframe\">\n  <thead>\n    <tr style=\"text-align: right;\">\n      <th></th>\n      <th></th>\n      <th>Height</th>\n      <th>Outside diameter</th>\n      <th>Max. diameter flowerpot</th>\n      <th>Inside diameter</th>\n      <th>Length</th>\n      <th>Max. load/shelf</th>\n      <th>Width</th>\n      <th>Max. load</th>\n      <th>Diameter</th>\n      <th>Depth</th>\n      <th>...</th>\n      <th>Thickness</th>\n      <th>Free height under furniture</th>\n      <th>Plinth, height</th>\n      <th>Frame, width</th>\n      <th>Frame, depth</th>\n      <th>Frame, height</th>\n      <th>Width right</th>\n      <th>Width left</th>\n      <th>Min. width</th>\n      <th>Max. width</th>\n    </tr>\n  </thead>\n  <tbody>\n    <tr>\n      <th rowspan=\"5\" valign=\"top\">plant pots</th>\n      <th>0</th>\n      <td>11 cm</td>\n      <td>12 cm</td>\n      <td>9 cm</td>\n      <td>11 cm</td>\n      <td>NaN</td>\n      <td>NaN</td>\n      <td>NaN</td>\n      <td>NaN</td>\n      <td>NaN</td>\n      <td>NaN</td>\n      <td>...</td>\n      <td>NaN</td>\n      <td>NaN</td>\n      <td>NaN</td>\n      <td>NaN</td>\n      <td>NaN</td>\n      <td>NaN</td>\n      <td>NaN</td>\n      <td>NaN</td>\n      <td>NaN</td>\n      <td>NaN</td>\n    </tr>\n    <tr>\n      <th>1</th>\n      <td>13 cm</td>\n      <td>14 cm</td>\n      <td>12 cm</td>\n      <td>13 cm</td>\n      <td>NaN</td>\n      <td>NaN</td>\n      <td>NaN</td>\n      <td>NaN</td>\n      <td>NaN</td>\n      <td>NaN</td>\n      <td>...</td>\n      <td>NaN</td>\n      <td>NaN</td>\n      <td>NaN</td>\n      <td>NaN</td>\n      <td>NaN</td>\n      <td>NaN</td>\n      <td>NaN</td>\n      <td>NaN</td>\n      <td>NaN</td>\n      <td>NaN</td>\n    </tr>\n    <tr>\n      <th>2</th>\n      <td>12 cm</td>\n      <td>13 cm</td>\n      <td>12 cm</td>\n      <td>NaN</td>\n      <td>NaN</td>\n      <td>NaN</td>\n      <td>NaN</td>\n      <td>NaN</td>\n      <td>NaN</td>\n      <td>NaN</td>\n      <td>...</td>\n      <td>NaN</td>\n      <td>NaN</td>\n      <td>NaN</td>\n      <td>NaN</td>\n      <td>NaN</td>\n      <td>NaN</td>\n      <td>NaN</td>\n      <td>NaN</td>\n      <td>NaN</td>\n      <td>NaN</td>\n    </tr>\n    <tr>\n      <th>4</th>\n      <td>13 cm</td>\n      <td>14 cm</td>\n      <td>12 cm</td>\n      <td>13 cm</td>\n      <td>NaN</td>\n      <td>NaN</td>\n      <td>NaN</td>\n      <td>NaN</td>\n      <td>NaN</td>\n      <td>NaN</td>\n      <td>...</td>\n      <td>NaN</td>\n      <td>NaN</td>\n      <td>NaN</td>\n      <td>NaN</td>\n      <td>NaN</td>\n      <td>NaN</td>\n      <td>NaN</td>\n      <td>NaN</td>\n      <td>NaN</td>\n      <td>NaN</td>\n    </tr>\n    <tr>\n      <th>5</th>\n      <td>12 cm</td>\n      <td>14 cm</td>\n      <td>12 cm</td>\n      <td>13 cm</td>\n      <td>NaN</td>\n      <td>NaN</td>\n      <td>NaN</td>\n      <td>NaN</td>\n      <td>NaN</td>\n      <td>NaN</td>\n      <td>...</td>\n      <td>NaN</td>\n      <td>NaN</td>\n      <td>NaN</td>\n      <td>NaN</td>\n      <td>NaN</td>\n      <td>NaN</td>\n      <td>NaN</td>\n      <td>NaN</td>\n      <td>NaN</td>\n      <td>NaN</td>\n    </tr>\n    <tr>\n      <th>...</th>\n      <th>...</th>\n      <td>...</td>\n      <td>...</td>\n      <td>...</td>\n      <td>...</td>\n      <td>...</td>\n      <td>...</td>\n      <td>...</td>\n      <td>...</td>\n      <td>...</td>\n      <td>...</td>\n      <td>...</td>\n      <td>...</td>\n      <td>...</td>\n      <td>...</td>\n      <td>...</td>\n      <td>...</td>\n      <td>...</td>\n      <td>...</td>\n      <td>...</td>\n      <td>...</td>\n      <td>...</td>\n    </tr>\n    <tr>\n      <th rowspan=\"5\" valign=\"top\">wardrobes</th>\n      <th>42</th>\n      <td>201.2 cm</td>\n      <td>NaN</td>\n      <td>NaN</td>\n      <td>NaN</td>\n      <td>NaN</td>\n      <td>NaN</td>\n      <td>200.0 cm</td>\n      <td>NaN</td>\n      <td>NaN</td>\n      <td>66.0 cm</td>\n      <td>...</td>\n      <td>NaN</td>\n      <td>NaN</td>\n      <td>NaN</td>\n      <td>NaN</td>\n      <td>NaN</td>\n      <td>NaN</td>\n      <td>NaN</td>\n      <td>NaN</td>\n      <td>NaN</td>\n      <td>NaN</td>\n    </tr>\n    <tr>\n      <th>43</th>\n      <td>139 cm</td>\n      <td>NaN</td>\n      <td>NaN</td>\n      <td>NaN</td>\n      <td>NaN</td>\n      <td>NaN</td>\n      <td>80 cm</td>\n      <td>NaN</td>\n      <td>NaN</td>\n      <td>52 cm</td>\n      <td>...</td>\n      <td>NaN</td>\n      <td>NaN</td>\n      <td>NaN</td>\n      <td>NaN</td>\n      <td>NaN</td>\n      <td>NaN</td>\n      <td>NaN</td>\n      <td>NaN</td>\n      <td>NaN</td>\n      <td>NaN</td>\n    </tr>\n    <tr>\n      <th>44</th>\n      <td>236.4 cm</td>\n      <td>NaN</td>\n      <td>NaN</td>\n      <td>NaN</td>\n      <td>NaN</td>\n      <td>NaN</td>\n      <td>250 cm</td>\n      <td>NaN</td>\n      <td>NaN</td>\n      <td>60 cm</td>\n      <td>...</td>\n      <td>NaN</td>\n      <td>NaN</td>\n      <td>236 cm</td>\n      <td>NaN</td>\n      <td>NaN</td>\n      <td>NaN</td>\n      <td>NaN</td>\n      <td>NaN</td>\n      <td>NaN</td>\n      <td>NaN</td>\n    </tr>\n    <tr>\n      <th>45</th>\n      <td>181 cm</td>\n      <td>NaN</td>\n      <td>NaN</td>\n      <td>NaN</td>\n      <td>NaN</td>\n      <td>NaN</td>\n      <td>60 cm</td>\n      <td>NaN</td>\n      <td>NaN</td>\n      <td>42 cm</td>\n      <td>...</td>\n      <td>NaN</td>\n      <td>NaN</td>\n      <td>NaN</td>\n      <td>NaN</td>\n      <td>NaN</td>\n      <td>NaN</td>\n      <td>NaN</td>\n      <td>NaN</td>\n      <td>95 cm</td>\n      <td>120 cm</td>\n    </tr>\n    <tr>\n      <th>46</th>\n      <td>236.4 cm</td>\n      <td>NaN</td>\n      <td>NaN</td>\n      <td>NaN</td>\n      <td>NaN</td>\n      <td>NaN</td>\n      <td>150.0 cm</td>\n      <td>NaN</td>\n      <td>NaN</td>\n      <td>44.0 cm</td>\n      <td>...</td>\n      <td>NaN</td>\n      <td>NaN</td>\n      <td>NaN</td>\n      <td>NaN</td>\n      <td>NaN</td>\n      <td>NaN</td>\n      <td>NaN</td>\n      <td>NaN</td>\n      <td>NaN</td>\n      <td>NaN</td>\n    </tr>\n  </tbody>\n</table>\n<p>500 rows × 36 columns</p>\n</div>"
     },
     "metadata": {}
    }
   ],
   "source": [
    "\n",
    "\n",
    "\n",
    "# Read files into a dataframe\n",
    "with open('data_json.txt', 'r') as fp:\n",
    "    data = json.load(fp)\n",
    "\n",
    "df = pd.DataFrame.from_dict({(i,j): data[i][j] \n",
    "                           for i in data.keys() \n",
    "                           for j in data[i].keys()},\n",
    "                       orient='index')\n",
    "\n",
    "# Split dimensions to it's own seperate columns\n",
    "\n",
    "x = df['prod_dimensions'].apply(pd.Series)\n",
    "display(x)\n",
    "\n"
   ]
  },
  {
   "cell_type": "code",
   "execution_count": null,
   "metadata": {},
   "outputs": [],
   "source": []
  }
 ],
 "metadata": {
  "kernelspec": {
   "display_name": "Python 3",
   "language": "python",
   "name": "python3"
  },
  "language_info": {
   "codemirror_mode": {
    "name": "ipython",
    "version": 3
   },
   "file_extension": ".py",
   "mimetype": "text/x-python",
   "name": "python",
   "nbconvert_exporter": "python",
   "pygments_lexer": "ipython3",
   "version": "3.8.5-final"
  }
 },
 "nbformat": 4,
 "nbformat_minor": 4
}