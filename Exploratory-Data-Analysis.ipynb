{
 "cells": [
  {
   "cell_type": "markdown",
   "metadata": {},
   "source": [
    "Written by [Gameli Ladzekpo](mailto:gameli.Ladzekpo@gmail.com) (Twitter/IG: @gamladz)\n",
    "\n",
    "For [AI Core](theaicore.com)"
   ]
  },
  {
   "cell_type": "code",
   "execution_count": 43,
   "metadata": {},
   "outputs": [],
   "source": [
    "import pandas as pd\n",
    "import json\n",
    "from ast import literal_eval\n",
    "import numpy as np\n",
    "import matplotlib.pyplot as plt \n",
    "import pandas as pd  \n",
    "from sklearn.linear_model import LinearRegression\n",
    "import statsmodels.api as sm\n",
    "from sklearn.model_selection import train_test_split"
   ]
  },
  {
   "cell_type": "code",
   "execution_count": 44,
   "metadata": {
    "tags": []
   },
   "outputs": [
    {
     "output_type": "display_data",
     "data": {
      "text/plain": "['Height',\n 'Outside diameter',\n 'Max. diameter flowerpot',\n 'Inside diameter',\n 'Length',\n 'Max. load/shelf',\n 'Width',\n 'Max. load',\n 'Diameter',\n 'Depth',\n 'Diameter of plant pot',\n 'Height of plant',\n 'Package quantity',\n 'Length of plant pot',\n 'Width of plant pot',\n 'Volume',\n 'Height including hanger',\n 'Lower outer measure, depth',\n 'Lower outer measure, width',\n 'Upper outer measure, depth',\n 'Upper outer measure, width',\n 'Length including handles',\n 'Height including lid',\n 'Min. height',\n 'Max. height',\n 'Length of knife blade',\n 'Thickness',\n 'Free height under furniture',\n 'Plinth, height',\n 'Frame, width',\n 'Frame, depth',\n 'Frame, height',\n 'Width right',\n 'Width left',\n 'Min. width',\n 'Max. width']"
     },
     "metadata": {}
    }
   ],
   "source": [
    "\n",
    "# pd.options.display.max_columns = None\n",
    "# pd.options.display.max_rows = None\n",
    "\n",
    "\n",
    "# Read files into a dataframe\n",
    "with open('data_json.txt', 'r') as fp:\n",
    "    data = json.load(fp)\n",
    "\n",
    "df = pd.DataFrame.from_dict({(i,j): data[i][j] \n",
    "                           for i in data.keys() \n",
    "                           for j in data[i].keys()},\n",
    "                       orient='index')\n",
    "\n",
    "\n",
    "# Clean_df will be used to save cleaned data\n",
    "clean_df = pd.DataFrame()\n",
    "\n",
    "# Select features from dimensions\n",
    "\n",
    "dimensions = df['prod_dimensions'].apply(pd.Series)\n",
    "dimensions = dimensions.astype('str')\n",
    "headers = dimensions.columns.values.tolist()\n",
    "\n",
    "all_columns = list(dimensions) # Creates list of all column headers\n",
    "num_columns = len(dimensions. columns)\n",
    "clean_df = pd.DataFrame()\n",
    "display(all_columns)\n",
    "\n",
    "         \n"
   ]
  },
  {
   "cell_type": "code",
   "execution_count": 45,
   "metadata": {},
   "outputs": [],
   "source": [
    "volume_cols = [col for col in dimensions.columns if 'volume' in col]\n",
    "dimensions[volume_cols] = dimensions[volume_cols].apply(lambda x: x.str.strip(' cm').astype('float'))\n",
    "volume = dimensions[volume_cols]\n",
    "\n",
    "clean_df[\"volume_avg\"] = volume.mean(axis=1)\n"
   ]
  },
  {
   "cell_type": "code",
   "execution_count": 46,
   "metadata": {},
   "outputs": [],
   "source": [
    "length_cols = [col for col in dimensions.columns if 'length' in col]\n",
    "dimensions[length_cols] = dimensions[length_cols].apply(lambda x: x.str.strip(' cm').astype('float'))\n",
    "length = dimensions[length_cols]\n",
    "\n",
    "clean_df[\"length_avg\"] = length.mean(axis=1)\n"
   ]
  },
  {
   "cell_type": "code",
   "execution_count": 47,
   "metadata": {},
   "outputs": [],
   "source": [
    "diameter_cols = [col for col in dimensions.columns if 'diameter' in col]\n",
    "dimensions[diameter_cols] = dimensions[diameter_cols].apply(lambda x: x.str.strip(' cm').astype('float'))\n",
    "diameter = dimensions[diameter_cols]\n",
    "\n",
    "clean_df[\"diameter_avg\"] = diameter.mean(axis=1)"
   ]
  },
  {
   "cell_type": "code",
   "execution_count": 48,
   "metadata": {},
   "outputs": [],
   "source": [
    "depth_cols = [col for col in dimensions.columns if 'depth' in col]\n",
    "dimensions[depth_cols] = dimensions[depth_cols].apply(lambda x: x.str.strip(' cm').astype('float'))\n",
    "depth = dimensions[depth_cols]\n",
    "\n",
    "clean_df[\"depth_avg\"] = depth.mean(axis=1)\n",
    "\n",
    "\n"
   ]
  },
  {
   "cell_type": "code",
   "execution_count": 49,
   "metadata": {},
   "outputs": [],
   "source": [
    "width_cols = [col for col in dimensions.columns if 'width' in col]\n",
    "dimensions[width_cols] = dimensions[width_cols].apply(lambda x: x.str.strip(' cm').astype('float'))\n",
    "width = dimensions[width_cols]\n",
    "\n",
    "clean_df[\"width_avg\"] = width.mean(axis=1)\n",
    "\n"
   ]
  },
  {
   "cell_type": "code",
   "execution_count": 50,
   "metadata": {
    "tags": []
   },
   "outputs": [
    {
     "output_type": "stream",
     "name": "stdout",
     "text": [
      "plant pots  0    NaN\n            1    NaN\n            2    NaN\n            4    NaN\n            5    NaN\n                  ..\nwardrobes   42   NaN\n            43   NaN\n            44   NaN\n            45   NaN\n            46   NaN\nName: avg, Length: 500, dtype: float64\n"
     ]
    }
   ],
   "source": [
    "height_cols = [col for col in dimensions.columns if 'height' in col]\n",
    "Height_cols = [col for col in dimensions.columns if 'Height' in col]\n",
    "\n",
    "height = dimensions[height_cols]\n",
    "Height = dimensions[Height_cols]\n",
    "\n",
    "\n",
    "height[\"avg\"] = height.mean(axis=1)\n",
    "Height[\"avg\"] = height.mean(axis=1)\n",
    "\n",
    "clean_df['height_avg'] = height[\"avg\"] + Height[\"avg\"]\n",
    "\n",
    "\n",
    "\n",
    "print(height[\"avg\"])"
   ]
  },
  {
   "cell_type": "code",
   "execution_count": 51,
   "metadata": {},
   "outputs": [],
   "source": [
    "# Select Features from description\n",
    "description = df['prod_desc'].str.split(',', expand=True)\n",
    "desc_empty = []\n",
    "for i in description.columns:\n",
    "    desc_empty.append(description[i].value_counts())\n",
    "\n",
    "clean_df['is_plant'] = df['prod_desc'].str.contains('Potted plant')\n",
    "clean_df['in_outdoor'] = df['prod_desc'].str.contains('in/outdoor')\n",
    "clean_df['is_white'] = df['prod_desc'].str.contains('white')\n",
    "clean_df['is_grey'] = df['prod_desc'].str.contains('grey')\n",
    "clean_df['is_beige'] = df['prod_desc'].str.contains('beige')\n",
    "clean_df['is_black'] = df['prod_desc'].str.contains('black')\n",
    "clean_df['is_pink'] = df['prod_desc'].str.contains('pink')\n",
    "clean_df['is_blue'] = df['prod_desc'].str.contains('blue')\n",
    "clean_df['is_red'] = df['prod_desc'].str.contains('red')\n",
    "\n",
    "clean_df['prod_price'] = df['prod_price'].astype('float64')\n",
    "\n",
    "drop_cols =['level_0','level_1']\n",
    "clean_df = clean_df.reset_index().drop(drop_cols, axis=1)\n",
    "clean_df = clean_df.fillna(0)\n",
    "\n",
    "\n",
    "\n"
   ]
  },
  {
   "cell_type": "code",
   "execution_count": 52,
   "metadata": {},
   "outputs": [],
   "source": [
    "\n",
    "\n",
    "# Select the product price as your label, y\n",
    "y = clean_df.pop('prod_price')\n",
    "X = clean_df\n",
    "X = sm.add_constant(X)\n",
    "\n",
    "# Split test and train data and save to csv\n",
    "X_train, X_test, y_train, y_test = train_test_split(X, y, test_size=0.15, random_state=42)\n",
    "X_test.to_csv('X_test.csv', index=False)\n",
    "y_test.to_csv('y_test.csv', index=False)\n",
    "X_train.to_csv('X_train.csv', index=False)\n",
    "y_train.to_csv('y_train.csv', index=False)\n",
    "\n",
    "\n",
    "\n"
   ]
  },
  {
   "cell_type": "code",
   "execution_count": null,
   "metadata": {},
   "outputs": [],
   "source": []
  }
 ],
 "metadata": {
  "kernelspec": {
   "display_name": "Python 3",
   "language": "python",
   "name": "python3"
  },
  "language_info": {
   "codemirror_mode": {
    "name": "ipython",
    "version": 3
   },
   "file_extension": ".py",
   "mimetype": "text/x-python",
   "name": "python",
   "nbconvert_exporter": "python",
   "pygments_lexer": "ipython3",
   "version": "3.8.5"
  }
 },
 "nbformat": 4,
 "nbformat_minor": 4
}