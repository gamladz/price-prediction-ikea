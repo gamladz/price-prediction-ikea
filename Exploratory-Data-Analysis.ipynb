{
 "cells": [
  {
   "cell_type": "markdown",
   "metadata": {},
   "source": [
    "Written by [Gameli Ladzekpo](mailto:gameli.Ladzekpo@gmail.com) (Twitter/IG: @gamladz)\n",
    "\n",
    "For [AI Core](theaicore.com)"
   ]
  },
  {
   "cell_type": "code",
   "execution_count": 1,
   "metadata": {},
   "outputs": [],
   "source": [
    "import pandas as pd\n",
    "import json"
   ]
  },
  {
   "cell_type": "code",
   "execution_count": 13,
   "metadata": {
    "tags": []
   },
   "outputs": [
    {
     "output_type": "execute_result",
     "data": {
      "text/plain": [
       "                               id       name price  \\\n",
       "plant pots 0   886890920811603757     MUSKOT     1   \n",
       "           1  8095329025458807137  BOYSENBÄR     3   \n",
       "\n",
       "                                   description  \\\n",
       "plant pots 0                  Plant pot, white   \n",
       "           1  Plant pot, in/outdoor light grey   \n",
       "\n",
       "                                                     dims_image  \\\n",
       "plant pots 0  [data/plant pots/muskot-plant-pot-white-303082...   \n",
       "           1  [data/plant pots/boysenbaer-plant-pot-in-outdo...   \n",
       "\n",
       "                                                     dimensions  \\\n",
       "plant pots 0  {'Height': '11 cm', 'Outside diameter': '12 cm...   \n",
       "           1  {'Height': '10 cm', 'Outside diameter': '11 cm...   \n",
       "\n",
       "                                                      packaging  \\\n",
       "plant pots 0  [MUSKOT, Plant pot, Article no.:, 303.082.01, ...   \n",
       "           1  [BOYSENBÄR, Plant pot, Article no.:, 904.782.7...   \n",
       "\n",
       "                                                        details  \\\n",
       "plant pots 0  Decorate your home with plants combined with a...   \n",
       "           1  This pot is made of concrete with natural air ...   \n",
       "\n",
       "             sustainability  \\\n",
       "plant pots 0                  \n",
       "           1                  \n",
       "\n",
       "                                                         images  \\\n",
       "plant pots 0  [data/plant pots/muskot-plant-pot-white-303082...   \n",
       "           1  [data/plant pots/boysenbaer-plant-pot-in-outdo...   \n",
       "\n",
       "                                           materials  \n",
       "plant pots 0   Earthenware, Pigmented powder coating  \n",
       "           1  Concrete,Wipe clean with a damp cloth.  "
      ],
      "text/html": "<div>\n<style scoped>\n    .dataframe tbody tr th:only-of-type {\n        vertical-align: middle;\n    }\n\n    .dataframe tbody tr th {\n        vertical-align: top;\n    }\n\n    .dataframe thead th {\n        text-align: right;\n    }\n</style>\n<table border=\"1\" class=\"dataframe\">\n  <thead>\n    <tr style=\"text-align: right;\">\n      <th></th>\n      <th></th>\n      <th>id</th>\n      <th>name</th>\n      <th>price</th>\n      <th>description</th>\n      <th>dims_image</th>\n      <th>dimensions</th>\n      <th>packaging</th>\n      <th>details</th>\n      <th>sustainability</th>\n      <th>images</th>\n      <th>materials</th>\n    </tr>\n  </thead>\n  <tbody>\n    <tr>\n      <th rowspan=\"2\" valign=\"top\">plant pots</th>\n      <th>0</th>\n      <td>886890920811603757</td>\n      <td>MUSKOT</td>\n      <td>1</td>\n      <td>Plant pot, white</td>\n      <td>[data/plant pots/muskot-plant-pot-white-303082...</td>\n      <td>{'Height': '11 cm', 'Outside diameter': '12 cm...</td>\n      <td>[MUSKOT, Plant pot, Article no.:, 303.082.01, ...</td>\n      <td>Decorate your home with plants combined with a...</td>\n      <td></td>\n      <td>[data/plant pots/muskot-plant-pot-white-303082...</td>\n      <td>Earthenware, Pigmented powder coating</td>\n    </tr>\n    <tr>\n      <th>1</th>\n      <td>8095329025458807137</td>\n      <td>BOYSENBÄR</td>\n      <td>3</td>\n      <td>Plant pot, in/outdoor light grey</td>\n      <td>[data/plant pots/boysenbaer-plant-pot-in-outdo...</td>\n      <td>{'Height': '10 cm', 'Outside diameter': '11 cm...</td>\n      <td>[BOYSENBÄR, Plant pot, Article no.:, 904.782.7...</td>\n      <td>This pot is made of concrete with natural air ...</td>\n      <td></td>\n      <td>[data/plant pots/boysenbaer-plant-pot-in-outdo...</td>\n      <td>Concrete,Wipe clean with a damp cloth.</td>\n    </tr>\n  </tbody>\n</table>\n</div>"
     },
     "metadata": {},
     "execution_count": 13
    }
   ],
   "source": [
    "\n",
    "\n",
    "\n",
    "# Read files into a dataframe\n",
    "with open('data.json', 'r') as fp:\n",
    "    data = json.load(fp)\n",
    "\n",
    "pd.DataFrame.from_dict({(i,j): data[i][j] \n",
    "                           for i in data.keys() \n",
    "                           for j in data[i].keys()},\n",
    "                       orient='index')\n",
    "\n",
    "\n",
    "\n"
   ]
  },
  {
   "cell_type": "code",
   "execution_count": 60,
   "metadata": {},
   "outputs": [
    {
     "output_type": "stream",
     "name": "stdout",
     "text": [
      "{'ResponseMetadata': {'RequestId': 'GJW2C5J0B81T0S10', 'HostId': 'OJTSfxfBGH4OHrx3p2RsrwDHl/KjQH2CzGkRd9o6u6TpFD9wsEaLFLe6XMVhWyNFg9W3GCCw6QQ=', 'HTTPStatusCode': 200, 'HTTPHeaders': {'x-amz-id-2': 'OJTSfxfBGH4OHrx3p2RsrwDHl/KjQH2CzGkRd9o6u6TpFD9wsEaLFLe6XMVhWyNFg9W3GCCw6QQ=', 'x-amz-request-id': 'GJW2C5J0B81T0S10', 'date': 'Fri, 12 Feb 2021 16:10:05 GMT', 'content-type': 'application/xml', 'transfer-encoding': 'chunked', 'server': 'AmazonS3'}, 'RetryAttempts': 0}, 'Owner': {'ID': 'a3990c786892e7897b56425c9b243ba46076eae807a4c01d61c6ba7422e98c2d'}, 'Grants': [{'Grantee': {'ID': 'a3990c786892e7897b56425c9b243ba46076eae807a4c01d61c6ba7422e98c2d', 'Type': 'CanonicalUser'}, 'Permission': 'FULL_CONTROL'}]}\n"
     ]
    }
   ],
   "source": [
    "client = boto3.client('s3', region_name='us-east-2')\n",
    "response = client.get_object_acl(\n",
    "    Bucket='ikea-dataset',\n",
    "    Key='data/plant pots/ingefaera-plant-pot-with-saucer-outdoor-terracotta-50258040/ingefaera-plant-pot-with-saucer-outdoor-terracotta-50258040-4.JPG',\n",
    ")\n",
    "\n",
    "print(response)"
   ]
  },
  {
   "cell_type": "code",
   "execution_count": null,
   "metadata": {},
   "outputs": [],
   "source": []
  }
 ],
 "metadata": {
  "kernelspec": {
   "display_name": "Python 3",
   "language": "python",
   "name": "python3"
  },
  "language_info": {
   "codemirror_mode": {
    "name": "ipython",
    "version": 3
   },
   "file_extension": ".py",
   "mimetype": "text/x-python",
   "name": "python",
   "nbconvert_exporter": "python",
   "pygments_lexer": "ipython3",
   "version": "3.8.5-final"
  }
 },
 "nbformat": 4,
 "nbformat_minor": 4
}