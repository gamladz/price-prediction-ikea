{
 "cells": [
  {
   "cell_type": "markdown",
   "metadata": {},
   "source": [
    "Written by [Gameli Ladzekpo](mailto:gameli.Ladzekpo@gmail.com) (Twitter/IG: @gamladz)\n",
    "\n",
    "For [AI Core](theaicore.com)"
   ]
  },
  {
   "cell_type": "code",
   "execution_count": 102,
   "metadata": {},
   "outputs": [],
   "source": [
    "import pandas as pd\n",
    "import json\n",
    "from ast import literal_eval\n",
    "import numpy as np\n",
    "import statsmodels.api as sm\n",
    "import sklearn\n",
    "from sklearn.linear_model import LinearRegression, Ridge\n",
    "from sklearn import linear_model\n",
    "from sklearn.tree import DecisionTreeRegressor\n",
    "from sklearn.preprocessing import PolynomialFeatures\n",
    "from sklearn.metrics import r2_score\n",
    "import matplotlib.pyplot as plt\n",
    "\n"
   ]
  },
  {
   "cell_type": "code",
   "execution_count": 103,
   "metadata": {},
   "outputs": [],
   "source": [
    "X_train = pd.read_csv('X_train.csv') \n",
    "y_train = pd.read_csv('y_train.csv')"
   ]
  },
  {
   "cell_type": "code",
   "execution_count": 104,
   "metadata": {},
   "outputs": [
    {
     "output_type": "stream",
     "name": "stdout",
     "text": [
      "                            OLS Regression Results                            \n==============================================================================\nDep. Variable:             prod_price   R-squared:                       0.254\nModel:                            OLS   Adj. R-squared:                  0.247\nMethod:                 Least Squares   F-statistic:                     35.84\nDate:                Thu, 25 Feb 2021   Prob (F-statistic):           8.97e-26\nTime:                        17:14:53   Log-Likelihood:                -2389.8\nNo. Observations:                 425   AIC:                             4790.\nDf Residuals:                     420   BIC:                             4810.\nDf Model:                           4                                         \nCovariance Type:            nonrobust                                         \n================================================================================\n                   coef    std err          t      P>|t|      [0.025      0.975]\n--------------------------------------------------------------------------------\nconst           11.5689      4.090      2.828      0.005       3.529      19.609\nlength_avg    2.527e-14   3.13e-15      8.075      0.000    1.91e-14    3.14e-14\ndiameter_avg    -1.5858      0.492     -3.223      0.001      -2.553      -0.619\nis_white        97.6668      8.534     11.444      0.000      80.892     114.442\nis_grey         20.3720      9.894      2.059      0.040       0.924      39.820\nis_beige        39.1240     16.916      2.313      0.021       5.873      72.375\n==============================================================================\nOmnibus:                      356.260   Durbin-Watson:                   1.943\nProb(Omnibus):                  0.000   Jarque-Bera (JB):             8174.117\nSkew:                           3.488   Prob(JB):                         0.00\nKurtosis:                      23.321   Cond. No.                     3.14e+17\n==============================================================================\n\nNotes:\n[1] Standard Errors assume that the covariance matrix of the errors is correctly specified.\n[2] The smallest eigenvalue is 2.26e-31. This might indicate that there are\nstrong multicollinearity problems or that the design matrix is singular.\n"
     ]
    }
   ],
   "source": [
    "# Recursive Feature Elimination\n",
    "for col in drop_cols:\n",
    "    drop_cols =['is_plant','is_pink','is_black','is_blue','width_avg','depth_avg', 'in_outdoor','is_red', 'height_avg', 'volume_avg']\n",
    "    X_train = X_train.drop(col, axis=1)\n",
    "    model = sm.OLS(y_train, X_train.astype(float)).fit()\n",
    "    predictions = model.predict(X_train) \n",
    "\n",
    "model_summary = model.summary()\n",
    "print(model_summary)"
   ]
  },
  {
   "cell_type": "code",
   "execution_count": 105,
   "metadata": {},
   "outputs": [
    {
     "output_type": "stream",
     "name": "stdout",
     "text": [
      "Best Score: -31.575522944413933\nBest Hyperparameters: {'alpha': 63.11903032841424, 'fit_intercept': False, 'normalize': True, 'solver': 'lsqr'}\n"
     ]
    }
   ],
   "source": [
    "\n",
    "from scipy.stats import loguniform\n",
    "from pandas import read_csv\n",
    "from sklearn.linear_model import Ridge\n",
    "from sklearn.model_selection import RepeatedKFold\n",
    "from sklearn.model_selection import RandomizedSearchCV\n",
    "\n",
    "model = Ridge()\n",
    "\n",
    "# define evaluation\n",
    "cv = RepeatedKFold(n_splits=10, n_repeats=3, random_state=1)\n",
    "# define search space\n",
    "space = dict()\n",
    "space['solver'] = ['lsqr']\n",
    "space['alpha'] = loguniform(63.11903032841424,63.11903032841425 )\n",
    "space['fit_intercept'] = [False]\n",
    "space['normalize'] = [True]\n",
    "search = RandomizedSearchCV(model, space, n_iter=1, scoring='neg_mean_absolute_error', n_jobs=-1, cv=cv, random_state=1, return_train_score=True)\n",
    "result = search.fit(X_train, y_train)\n",
    "# summarize result\n",
    "print('Best Score: %s' % result.best_score_)\n",
    "print('Best Hyperparameters: %s' % result.best_params_)\n",
    "\n",
    "\n"
   ]
  },
  {
   "cell_type": "code",
   "execution_count": 106,
   "metadata": {},
   "outputs": [
    {
     "output_type": "stream",
     "name": "stdout",
     "text": [
      "{'const': 1}\n",
      "{'const': 1, 'length_avg': 11.0}\n",
      "{'const': 1, 'length_avg': 11.0, 'diameter_avg': 11.0}\n",
      "{'const': 1, 'length_avg': 11.0, 'diameter_avg': 11.0, 'is_white': False}\n",
      "{'const': 1, 'length_avg': 11.0, 'diameter_avg': 11.0, 'is_white': False, 'is_grey': False}\n",
      "{'const': 1, 'length_avg': 11.0, 'diameter_avg': 11.0, 'is_white': False, 'is_grey': False, 'is_beige': False}\n"
     ]
    }
   ],
   "source": [
    "fields = ['volume_avg', 'length_avg', 'diameter_avg', 'height_avg', 'is_white', 'is_grey', 'is_beige']\n",
    "\n",
    "answers = {}\n",
    "\n",
    "key = 'const'\n",
    "entry = 1\n",
    "answers[key] = entry\n",
    "print(answers)\n",
    "\n",
    "key = 'length_avg'\n",
    "entry = input('What is the length in cm?')\n",
    "entry = float(entry)\n",
    "answers[key] = entry\n",
    "print(answers)\n",
    "\n",
    "key = 'diameter_avg'\n",
    "entry = input('What is the diameter in cm?')\n",
    "entry = float(entry)\n",
    "answers[key] = entry\n",
    "print(answers)\n",
    "\n",
    "key = 'is_white'\n",
    "entry = input('is the colour white?')\n",
    "if entry == 'Yes':\n",
    "    entry = True\n",
    "elif entry == 'yes':\n",
    "    entry = True\n",
    "else:\n",
    "    entry = False\n",
    "entry = bool(entry)\n",
    "answers[key] = entry\n",
    "print(answers)\n",
    "\n",
    "key = 'is_grey'\n",
    "entry = input('is the colour grey?')\n",
    "if entry == 'Yes':\n",
    "    entry = True\n",
    "elif entry == 'yes':\n",
    "    entry = True\n",
    "else:\n",
    "    entry = False\n",
    "entry = bool(entry)\n",
    "answers[key] = entry\n",
    "print(answers)\n",
    "\n",
    "key = 'is_beige'\n",
    "entry = input('is the colour beige?')\n",
    "if entry == 'Yes':\n",
    "    entry = True\n",
    "elif entry == 'yes':\n",
    "    entry = True\n",
    "else:\n",
    "    entry = False\n",
    "entry = bool(entry)\n",
    "answers[key] = entry\n",
    "print(answers)\n",
    "\n",
    "\n",
    "\n"
   ]
  },
  {
   "cell_type": "code",
   "execution_count": 107,
   "metadata": {},
   "outputs": [
    {
     "output_type": "stream",
     "name": "stdout",
     "text": [
      "the estimated price is £[[6.31874755]]\nWe estimate increase the value of your object by painting it white\n"
     ]
    }
   ],
   "source": [
    "df = pd.DataFrame(data=answers, index = [0])\n",
    "y_pred = search.predict(df)\n",
    "print(f'the estimated price is £{y_pred}')\n",
    "if answers['is_white'] == False:\n",
    "    print('We estimate increase the value of your object by painting it white')"
   ]
  },
  {
   "cell_type": "code",
   "execution_count": null,
   "metadata": {},
   "outputs": [],
   "source": []
  }
 ],
 "metadata": {
  "kernelspec": {
   "display_name": "Python 3",
   "language": "python",
   "name": "python3"
  },
  "language_info": {
   "codemirror_mode": {
    "name": "ipython",
    "version": 3
   },
   "file_extension": ".py",
   "mimetype": "text/x-python",
   "name": "python",
   "nbconvert_exporter": "python",
   "pygments_lexer": "ipython3",
   "version": "3.8.5"
  }
 },
 "nbformat": 4,
 "nbformat_minor": 4
}